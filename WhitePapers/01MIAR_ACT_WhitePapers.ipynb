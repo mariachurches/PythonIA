{
  "cells": [
    {
      "cell_type": "markdown",
      "metadata": {
        "id": "view-in-github",
        "colab_type": "text"
      },
      "source": [
        "<a href=\"https://colab.research.google.com/github/mariachurches/PythonIA/blob/main/WhitePapers/01MIAR_ACT_WhitePapers.ipynb\" target=\"_parent\"><img src=\"https://colab.research.google.com/assets/colab-badge.svg\" alt=\"Open In Colab\"/></a>"
      ]
    },
    {
      "cell_type": "markdown",
      "metadata": {
        "id": "Nvlx_fz-_-wb"
      },
      "source": [
        "<img src=\"https://github.com/mariachurches/PythonIA/blob/main/img/viu_logo.png?raw=1\" width=\"200\">\n",
        "\n",
        "#**01MIAR - Actividad Whitepapers - María Iglesias Veiga**\n",
        "\n",
        "\n"
      ]
    },
    {
      "cell_type": "markdown",
      "source": [
        "## Indice:\n",
        "\n",
        "\n",
        "1.   \n",
        "Artículo 01 - The NumPy array: a structure for efficient numerical computation\n",
        "\n",
        "  1.1 Actividad 01.01 - Ampliar dicha explicación, aportando posibles restricciones o limitaciones a dicho sistema y ejemplos propios de los casos de uso.\n",
        "\n",
        "  1.2 Actividad 01.02 - Verificar la eficacia y mejora posible de rendimiento del uso de dicha técnica sobre ndarrays de tamaños grandes.\n",
        "\n",
        "\n",
        "2.   Artículo 02 - Data Structures for Statistical Computing in Python\n",
        "\n",
        "  2.1 Actividad 02.01 - Desarrollar una opinión razonada del estado actual de las herramientas de análisis de datos estadísticos en contraposición a como se muestran en el artículo, R vs Python vs SQL vs Others...\n",
        "\n"
      ],
      "metadata": {
        "id": "VSlqnDgI43Hw"
      }
    },
    {
      "cell_type": "markdown",
      "source": [
        "**Librerias necesarias para el desarrollo de las actividades**"
      ],
      "metadata": {
        "id": "wxntVZ8Y22lo"
      }
    },
    {
      "cell_type": "code",
      "source": [
        "import os\n",
        "import sys\n",
        "import mmap\n",
        "import random\n",
        "import numpy as np\n",
        "import pandas as pd\n",
        "from time import time\n",
        "import matplotlib.pyplot as plt"
      ],
      "metadata": {
        "id": "ra5n7SDD3VbX"
      },
      "execution_count": 1,
      "outputs": []
    },
    {
      "cell_type": "markdown",
      "source": [
        "## **Artículo 01 - The NumPy array: a structure for efficient numerical computation**\n",
        "(https://www.researchgate.net/publication/224223550_The_NumPy_Array_A_Structure_for_Efficient_Numerical_Computation)\n"
      ],
      "metadata": {
        "id": "xWf6_EOMhIPw"
      }
    },
    {
      "cell_type": "markdown",
      "source": [
        "### Actividad 01.01 - Ampliar dicha explicación, aportando posibles restricciones o limitaciones a dicho sistema y ejemplos propios de los casos de uso."
      ],
      "metadata": {
        "id": "P8UktmbQh7XK"
      }
    },
    {
      "cell_type": "markdown",
      "source": [
        "####01.01.1 ¿Qué significa el término broadcasting?"
      ],
      "metadata": {
        "id": "bL4tEGQkHCVf"
      }
    },
    {
      "cell_type": "markdown",
      "source": [
        "El término Broadcasting hace referencia a la estrategia que usa numpy para poder hacer operaciones entre arrays de diferentes tamaños. El array de menor tamaño se propaga a traves del array de mayor tamaño, haciendo las dimensiones compatibles."
      ],
      "metadata": {
        "id": "f8Yf-nfJLMPs"
      }
    },
    {
      "cell_type": "markdown",
      "source": [
        "![hola](data:data:image/gif;base64,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)"
      ],
      "metadata": {
        "id": "WnHfONDtfZkM"
      }
    },
    {
      "cell_type": "markdown",
      "source": [
        "A continuación vamos a ver ejemplos del uso y no de la técnica de broadcasting:"
      ],
      "metadata": {
        "id": "bNd388DMkKpN"
      }
    },
    {
      "cell_type": "code",
      "source": [
        "#Ejemplo 1 - Haremos una suma de dos listas de las mismas dimensiones sin la librería numpy\n",
        "\n",
        "a = [1,2,3] # shape (1,3)\n",
        "b = [6,6,6] # shape (1,3)\n",
        "print(a+b)"
      ],
      "metadata": {
        "id": "WWeja_D4j7U2",
        "outputId": "91594025-6673-41ad-f35b-af71e60d32bb",
        "colab": {
          "base_uri": "https://localhost:8080/"
        }
      },
      "execution_count": 2,
      "outputs": [
        {
          "output_type": "stream",
          "name": "stdout",
          "text": [
            "[1, 2, 3, 6, 6, 6]\n"
          ]
        }
      ]
    },
    {
      "cell_type": "code",
      "source": [
        "#Ejemplo 2 - Haremos una suma de dos listas de distintas dimensiones sin la librería numpy\n",
        "\n",
        "a = [1,2,3] # shape (1,3)\n",
        "b = 6       # escalar\n",
        "\n",
        "try:\n",
        "  print(a+b)\n",
        "except:\n",
        "  print('TypeError: can only concatenate list (not \"int\") to list')"
      ],
      "metadata": {
        "id": "o3PnSGRelQ7U",
        "outputId": "030fcd3e-9974-4c5a-830c-0aff750cdf3c",
        "colab": {
          "base_uri": "https://localhost:8080/"
        }
      },
      "execution_count": 3,
      "outputs": [
        {
          "output_type": "stream",
          "name": "stdout",
          "text": [
            "TypeError: can only concatenate list (not \"int\") to list\n"
          ]
        }
      ]
    },
    {
      "cell_type": "code",
      "source": [
        "#Ejemplo 3 - Haremos una suma de dos listas de las mismas dimensiones con la librería numpy\n",
        "a = np.array([1,2,3])\n",
        "b = np.array([6,6,6])\n",
        "print(a+b)"
      ],
      "metadata": {
        "id": "xKGnCyCIlGx_",
        "outputId": "2e138ae4-ef07-455b-cb5d-7867c76cab28",
        "colab": {
          "base_uri": "https://localhost:8080/"
        }
      },
      "execution_count": 4,
      "outputs": [
        {
          "output_type": "stream",
          "name": "stdout",
          "text": [
            "[7 8 9]\n"
          ]
        }
      ]
    },
    {
      "cell_type": "code",
      "source": [
        "#Ejemplo 4 - Haremos una suma de dos listas de distintas dimensiones con la librería numpy utilizando la técnica de broadcasting\n",
        "a = np.array([1,2,3])\n",
        "b = 6       \n",
        "try:\n",
        "  print(a+b)\n",
        "except:\n",
        "  print('TypeError: can only concatenate list (not \"int\") to list')"
      ],
      "metadata": {
        "id": "jMMT68qhj-I0",
        "outputId": "7a106fd2-35b8-4040-d9c0-a40d9155fc0a",
        "colab": {
          "base_uri": "https://localhost:8080/"
        }
      },
      "execution_count": 5,
      "outputs": [
        {
          "output_type": "stream",
          "name": "stdout",
          "text": [
            "[7 8 9]\n"
          ]
        }
      ]
    },
    {
      "cell_type": "code",
      "source": [
        "#Ejemplo 5 - Haremos una suma de dos matrices de distintas dimensiones con la librería numpy utilizando la técnica de broadcasting\n",
        "A = np.ones((3,3))    # shape (3,3)\n",
        "b = np.array([1,2,3]) # shape (1,3)\n",
        "print(A+b)"
      ],
      "metadata": {
        "id": "icHIRRIanksH",
        "outputId": "e2787d01-f869-49a6-8744-d52b9ad87dc7",
        "colab": {
          "base_uri": "https://localhost:8080/"
        }
      },
      "execution_count": 6,
      "outputs": [
        {
          "output_type": "stream",
          "name": "stdout",
          "text": [
            "[[2. 3. 4.]\n",
            " [2. 3. 4.]\n",
            " [2. 3. 4.]]\n"
          ]
        }
      ]
    },
    {
      "cell_type": "markdown",
      "source": [
        "Conclusiones de los ejemplos dados:\n",
        "\n",
        "\n",
        "*   Como podemos ver en el ejemplo 2, sin la librería de numpy Python no permite operaciones entre listas de distinto tamaño.\n",
        "*   Numpy permite realizar operaciones entre arrays o matrices tanton si son del mismo tamaño como si tienen distintos tamaños (con algunas restricciones que veremos a continuación), aunque como veremos en el siguiente apartado en los ejemplos 4 y 5 se encuentra una gran ventaja en el ahorro de memoria al no necesitar almacenar más que únicamente un escalar.\n",
        "\n",
        "\n"
      ],
      "metadata": {
        "id": "QgCr9pWSmxe_"
      }
    },
    {
      "cell_type": "markdown",
      "source": [
        "####01.01.2 Reglas del broadcasting"
      ],
      "metadata": {
        "id": "Cxbd96hw7jLG"
      }
    },
    {
      "cell_type": "markdown",
      "source": [
        "La técnica de broadcasting tiene reglas especificas para la correcta transmisión de las matrices:\n",
        "\n",
        "\n",
        "1.   Si las dos matrices tienen distintas dimensiones, la que tenga menor dimension se rellena de unos.\n",
        "2.   Si las dos matrices tienen formas distintas aquella con dimensión 1 se \"extiende\" para coincidir con la otra.\n",
        "3.   Si las dos matrices tienen distintas dimensiones, y ninguna de las matrices tiene alguna dimensión con tamaño 1 se generara un error.\n",
        "\n"
      ],
      "metadata": {
        "id": "FuwBGa3m83CF"
      }
    },
    {
      "cell_type": "markdown",
      "source": [
        "Aunque luego se vayan a ver más ejemplos, vamos a mostrar dos ejemplos explicados sobre las reglas descritas anteriormente."
      ],
      "metadata": {
        "id": "puAH3RYPB_N2"
      }
    },
    {
      "cell_type": "code",
      "source": [
        "#Ejemplo de la regla 1 y 2\n",
        "a = np.ones((2,3)) \n",
        "b = np.arange(3)\n",
        "print(\"Dimensiones del array a \", a.shape)\n",
        "print(f\"Dimensiones del array b {b.shape} \\n\")\n",
        "\n",
        "print(\"Teniendo en cuenta la regla 1 el array b se rellenaran con 1s quedando con dimensiones (1,3)\\n\")\n",
        "print(\"Teniendo en cuenta la regla 2 los arrays tienen distintas dimensiones (2,3) , (1,3) \\n como el array b tiene dimensión 1 se extiende para coincidir con la matriz a quedando con dimensiones (2,3)\\n\")\n",
        "\n",
        "print(\"Ahora las dimensiones coinciden y se puede llevar a cabo la operación deseada\")\n",
        "\n",
        "c = a*b\n",
        "print(c)\n",
        "print(\"\\nLas dimensiones de la matriz resultante podemos ver como es la obtenida al ajustar las dimensiones de las matrices \", c.shape)"
      ],
      "metadata": {
        "id": "s9cDvtgP_ht1",
        "outputId": "11cbab28-1011-46a5-e617-efce4b915b3a",
        "colab": {
          "base_uri": "https://localhost:8080/"
        }
      },
      "execution_count": 7,
      "outputs": [
        {
          "output_type": "stream",
          "name": "stdout",
          "text": [
            "Dimensiones del array a  (2, 3)\n",
            "Dimensiones del array b (3,) \n",
            "\n",
            "Teniendo en cuenta la regla 1 el array b se rellenaran con 1s quedando con dimensiones (1,3)\n",
            "\n",
            "Teniendo en cuenta la regla 2 los arrays tienen distintas dimensiones (2,3) , (1,3) \n",
            " como el array b tiene dimensión 1 se extiende para coincidir con la matriz a quedando con dimensiones (2,3)\n",
            "\n",
            "Ahora las dimensiones coinciden y se puede llevar a cabo la operación deseada\n",
            "[[0. 1. 2.]\n",
            " [0. 1. 2.]]\n",
            "\n",
            "Las dimensiones de la matriz resultante podemos ver como es la obtenida al ajustar las dimensiones de las matrices  (2, 3)\n"
          ]
        }
      ]
    },
    {
      "cell_type": "code",
      "source": [
        "# Ejemplo regla 3\n",
        "a = np.ones((2,3)) \n",
        "b = np.ones((4,2)) \n",
        "print(\"Dimensiones del array a \", a.shape)\n",
        "print(f\"Dimensiones del array b {b.shape} \\n\")\n",
        "print(\"Como podemos observar las matrices tienen dimensiones diferentes y ninguna de las dos dispone de una dimension 1, por lo que al intentar relalizar una operación entre ellas se lanzara un error\\n\")\n",
        "print(a+b)"
      ],
      "metadata": {
        "id": "AjhqUavtCQwN",
        "outputId": "cbecd4d9-25c0-480c-d497-6934f138d800",
        "colab": {
          "base_uri": "https://localhost:8080/",
          "height": 324
        }
      },
      "execution_count": 9,
      "outputs": [
        {
          "output_type": "stream",
          "name": "stdout",
          "text": [
            "Dimensiones del array a  (2, 3)\n",
            "Dimensiones del array b (4, 2) \n",
            "\n",
            "Como podemos observar las matrices tienen dimensiones diferentes y ninguna de las dos dispone de una dimension 1, por lo que al intentar relalizar una operación entre ellas se lanzara un error\n",
            "\n"
          ]
        },
        {
          "output_type": "error",
          "ename": "ValueError",
          "evalue": "ignored",
          "traceback": [
            "\u001b[0;31m---------------------------------------------------------------------------\u001b[0m",
            "\u001b[0;31mValueError\u001b[0m                                Traceback (most recent call last)",
            "\u001b[0;32m<ipython-input-9-b6e5e7de2cc5>\u001b[0m in \u001b[0;36m<module>\u001b[0;34m()\u001b[0m\n\u001b[1;32m      5\u001b[0m \u001b[0mprint\u001b[0m\u001b[0;34m(\u001b[0m\u001b[0;34mf\"Dimensiones del array b {b.shape} \\n\"\u001b[0m\u001b[0;34m)\u001b[0m\u001b[0;34m\u001b[0m\u001b[0;34m\u001b[0m\u001b[0m\n\u001b[1;32m      6\u001b[0m \u001b[0mprint\u001b[0m\u001b[0;34m(\u001b[0m\u001b[0;34m\"Como podemos observar las matrices tienen dimensiones diferentes y ninguna de las dos dispone de una dimension 1, por lo que al intentar relalizar una operación entre ellas se lanzara un error\\n\"\u001b[0m\u001b[0;34m)\u001b[0m\u001b[0;34m\u001b[0m\u001b[0;34m\u001b[0m\u001b[0m\n\u001b[0;32m----> 7\u001b[0;31m \u001b[0mprint\u001b[0m\u001b[0;34m(\u001b[0m\u001b[0ma\u001b[0m\u001b[0;34m+\u001b[0m\u001b[0mb\u001b[0m\u001b[0;34m)\u001b[0m\u001b[0;34m\u001b[0m\u001b[0;34m\u001b[0m\u001b[0m\n\u001b[0m",
            "\u001b[0;31mValueError\u001b[0m: operands could not be broadcast together with shapes (2,3) (4,2) "
          ]
        }
      ]
    },
    {
      "cell_type": "markdown",
      "source": [
        "####01.01.3 ¿Qué ventajas proporciona?"
      ],
      "metadata": {
        "id": "LVOYrzJuK1hb"
      }
    },
    {
      "cell_type": "markdown",
      "source": [
        "Esta estrategia consigue evitar las copias innecesarias de datos en memoria consiguiendo hacer algoritmos más eficientes. Esta ventaja se puede ver fácilmente en un ejemplo muy sencillo:"
      ],
      "metadata": {
        "id": "avWVYEE2LSiY"
      }
    },
    {
      "cell_type": "code",
      "source": [
        "# Ejemplo 1 - Sin usar Broadcasting.\n",
        "array_a = np.array([1,2,3,4,5])\n",
        "array_b = np.array([5,5,5,5,5])\n",
        "print(f\"Dimensiones del array_a {array_a.shape} , dimensiones del array_b {array_b.shape}\")\n",
        "print(f\"Tamaño que ocupan en memoria ambas variables {sys.getsizeof(array_a) + sys.getsizeof(array_b)}\")\n",
        "array_a * array_b"
      ],
      "metadata": {
        "id": "WFXOpt8FL1nI"
      },
      "execution_count": null,
      "outputs": []
    },
    {
      "cell_type": "code",
      "source": [
        "# Ejemplo 2 - Usando Broadcasting\n",
        "array_a = np.array([1,2,3,4,5])\n",
        "array_b = 5\n",
        "\n",
        "print(f\"Dimensiones del array_a {array_a.shape}\")\n",
        "print(f\"Tamaño que ocupan en memoria ambas variables {sys.getsizeof(array_a) + sys.getsizeof(array_b)}\")\n",
        "array_a * array_b"
      ],
      "metadata": {
        "id": "DrUNdVXtL13t"
      },
      "execution_count": null,
      "outputs": []
    },
    {
      "cell_type": "markdown",
      "source": [
        "En los ejemplos 1 y 2 podemos ver dos estrategias diferentes de multiplicación de numpy arrays, en el primer ejemplo vemos como al no usar la técnica de broadcasting almacenamos en memoria dos arrays de 5 elementos, en cambio en el ejemplo 2 beneficiandonos del uso de la técnica de broadcasting podemos realizar la misma operación únicamente almacenando un array y un entero ya que está se encarga de propagar la variable de menor dimensión (en este caso array_b que es un entero) sobre la variable de mayor dimension como vimos en el apartado de reglas."
      ],
      "metadata": {
        "id": "dzpvo00ZNKO0"
      }
    },
    {
      "cell_type": "markdown",
      "source": [
        "####01.01.3 ¿Qué limitaciones presenta?"
      ],
      "metadata": {
        "id": "2Wb6Jew0K9h3"
      }
    },
    {
      "cell_type": "markdown",
      "source": [
        "Aun con todas sus ventajas, existen restricciones en esta estrategia, ya que en ciertos casos el Broadcasting es una mala idea conduciendo a un uso ineficiente de la memoria ralentizando el cálculo."
      ],
      "metadata": {
        "id": "o5k6JmV5h9No"
      }
    },
    {
      "cell_type": "markdown",
      "source": [
        "Ejemplos de broadcasting con sus limitaciones:"
      ],
      "metadata": {
        "id": "2P730kgSkKDM"
      }
    },
    {
      "cell_type": "code",
      "source": [
        "#Caso 1\n",
        "a = np.arange(10).reshape(2,5)\n",
        "b = np.ones((5))\n",
        "c = a+b\n",
        "print(c)\n",
        "print(\"\\nShape a\" , a.shape)\n",
        "print(\"Shape b\" , b.shape)\n",
        "print(\"Shape c\" , c.shape)"
      ],
      "metadata": {
        "id": "OKCvas5m1Oyd"
      },
      "execution_count": null,
      "outputs": []
    },
    {
      "cell_type": "code",
      "source": [
        "#Caso 2\n",
        "a = np.arange(10).reshape(10,1)\n",
        "b = np.ones((5)).reshape(1,5)\n",
        "c = a+b\n",
        "print(c)\n",
        "\n",
        "print(\"\\nShape a\" , a.shape)\n",
        "print(\"Shape b\" , b.shape)\n",
        "print(\"Shape c\" , c.shape)"
      ],
      "metadata": {
        "id": "jINzZPW32Kxl"
      },
      "execution_count": null,
      "outputs": []
    },
    {
      "cell_type": "code",
      "source": [
        "#Limitación de caso 1\n",
        "a = np.arange(10).reshape(2,5)\n",
        "b = np.ones((6))\n",
        "print(a+b)"
      ],
      "metadata": {
        "id": "4PwNUgeS1TuB"
      },
      "execution_count": null,
      "outputs": []
    },
    {
      "cell_type": "code",
      "source": [
        "#Limitación de caso 2\n",
        "a = np.arange(10).reshape(10,1)\n",
        "b = np.ones((5)).reshape(5,1)\n",
        "print(a+b)"
      ],
      "metadata": {
        "id": "gWRiiIEP2ZBu"
      },
      "execution_count": null,
      "outputs": []
    },
    {
      "cell_type": "markdown",
      "source": [
        "###Actividad 01.02 - Verificar la eficacia y mejora posible de rendimiento del uso de dicha técnica sobre ndarrays de tamaños grandes."
      ],
      "metadata": {
        "id": "wJFGxsr0KuBJ"
      }
    },
    {
      "cell_type": "markdown",
      "source": [
        "El mapeo de memoria (*memory mapping*) es una técnica que tiene su mayor ventaja en acciones de E/S de ficheros, esta técnica se ayuda de la memoria virtual del sistema operativo para cargar directamente los datos en memoria consiguiendo el acceso directo a posiciones especificas sin falta de cargar todos los datos, ya que estos se encontran en disco pero la direcciones a estos estarán mapeadas en la memoria, evitando llamadas a sistema y cargas de bufferes intermedios.  "
      ],
      "metadata": {
        "id": "L89tfNPP7JAa"
      }
    },
    {
      "cell_type": "markdown",
      "source": [
        "A continuación, mostraremos un ejemplo del rendimiento en lectura de ficheros usando dos estrategias, una de lectura y busqueda estandar de un fichero y otra usando la técnica de mapeo de memoria.\n",
        "\n",
        "*Nota: Este ejemplo se hace con un total de 16 repeticiones para que en el gráfico resultante se aprecien las diferencias, aun así, se ha dejado la variable repes por si se quiere bajar o aumentar el número de iteraciones de este. (tiempo estimado de ejecución: 1min 14segs)*"
      ],
      "metadata": {
        "id": "tnxCqOR2n25C"
      }
    },
    {
      "cell_type": "code",
      "source": [
        "random.seed(0)\n",
        "def crear_fichero(t):\n",
        "  file = open(\"/content/file.txt\", \"w\")\n",
        "  for i in range(t+1):\n",
        "    file.write(\"C++\")\n",
        "    if i == int(random.random()*t) : file.write(\"Python\") \n",
        "  file.close()"
      ],
      "metadata": {
        "id": "rZ7XtsH08sJ9"
      },
      "execution_count": null,
      "outputs": []
    },
    {
      "cell_type": "code",
      "source": [
        "#Creación de estructuras de clases necesarias\n",
        "repes = 16\n",
        "tamaño = 1\n",
        "tamaños = []\n",
        "sin_mapeo = []\n",
        "con_mapeo = []\n",
        "\n",
        "#Prueba de lectura de datos con y sin mapeo\n",
        "for i in range(repes):\n",
        "  if i % 2 == 0: tamaño*=2 \n",
        "  else: tamaño*=5\n",
        "\n",
        "  tamaños.append(str(tamaño))\n",
        "  crear_fichero(tamaño)\n",
        "  \n",
        "  #Ejemplo con lectura normal de fichero\n",
        "  t_no_mmap_start_read = time() \n",
        "  with open(\"/content/file.txt\", mode=\"r\") as fbn:\n",
        "    texto = fbn.read()\n",
        "    texto.find(\"Python\")\n",
        "  t_no_mmap_start_end = time() \n",
        "\n",
        "  #Ejemplo usando memory mapping\n",
        "  t_mmap_start_read = time() \n",
        "  with open(\"/content/file.txt\", mode=\"r\") as fbm:\n",
        "    with mmap.mmap(fbm.fileno(), 0, access= mmap.ACCESS_READ) as mmap_o:\n",
        "      mmap_o.find(b\"Python\")\n",
        "  t_mmap_end_read = time()\n",
        "  \n",
        "  #Comparamos los resultados\n",
        "  sin_mapeo.append(t_no_mmap_start_end - t_no_mmap_start_read)\n",
        "  con_mapeo.append(t_mmap_end_read - t_mmap_start_read)\n",
        "  print('Tamaño del fichero : {0}'.format(tamaño+1))\n",
        "  print('Tiempo de lectura sin mapeo de memoria : {0}'.format(sin_mapeo[-1]))\n",
        "  print('Tiempo de lectura con mapeo de memoria : {0}'.format(con_mapeo[-1]))\n",
        "\n",
        "#Visualizamos los datos\n",
        "fig, ax = plt.subplots()\n",
        "fig.set_size_inches(10,8)\n",
        "print(tamaños)\n",
        "axes_x = tamaños\n",
        "plt.xticks(rotation=45)\n",
        "ax.plot(axes_x, sin_mapeo, marker = '^', label='Sin mapeo de memoria')\n",
        "ax.plot(axes_x, con_mapeo, marker = 'o', label='Con mapeo de memoria')\n",
        "plt.title(\"\\n Tiempo de lectura y busqueda con diferentes tamaños de fichero\\n\", loc=\"center\", fontsize=18)\n",
        "plt.legend(loc=\"best\", prop={'size': 12})\n",
        "plt.xlabel(\"\\nTamaño del fichero (número de lineas)\",fontsize=12)\n",
        "plt.ylabel(\"Tiempo de ejecución (ms)\\n\",fontsize=12)\n",
        "plt.show()\n",
        "\n",
        "results = list(map(lambda x, y: x > y, sin_mapeo, con_mapeo))\n",
        "if all(results) : print(\"La ejecución sin mapeo de memoria ha ocasionado una disminución de lectura para todos los tamaños de fichero\")\n",
        "else:\n",
        "  print(f\"El mapeo de memoria ha tardado menos tiempo de ejecución {sum(results)} de las {repes} repeticiones\")"
      ],
      "metadata": {
        "id": "TftOkSWzIcdL"
      },
      "execution_count": null,
      "outputs": []
    },
    {
      "cell_type": "markdown",
      "source": [
        "Como podemos observar a mayor tamaño de fichero mayor es la diferencia en el  tiempo de ejecución, diferenciandose cada vez más la mejoría usando la técnica de memory mapping. "
      ],
      "metadata": {
        "id": "mTbj1y9DrzOr"
      }
    },
    {
      "cell_type": "markdown",
      "metadata": {
        "id": "2Oqz9x3E_-wd"
      },
      "source": [
        "## **Artículo 02 - Data Structures for Statistical Computing in Python**\n",
        "\n",
        "(https://www.researchgate.net/publication/265001241_Data_Structures_for_Statistical_Computing_in_Python)\n"
      ]
    },
    {
      "cell_type": "markdown",
      "source": [
        "Creen que hacia años benideros habrá una gran posibilidad de traer usuarios hacia python desde R.. Matlab.. \n",
        "Un grafico estaría guapo\n",
        "Decir que desde que pandas se introdujo hace ya unos años\n",
        "Tendencias actuales, uso que hace la gente\n",
        "R pa que se usa cuales son sus fuertes frente a python\n",
        "porque python se usa mas que el resto de herramientas\n",
        "porque sql se usa para cosas determinadas y no otras\n",
        "Matlab\n",
        "Julia\n",
        "Estados actual de herramientas de ciencias de datos en 2021\n",
        "Empiezo de 0 en ciencia de datos y quiero ver que tecnologias estan disponibles\n",
        "y quiero una pequeña comparación entre ellas"
      ],
      "metadata": {
        "id": "_hajIXMSMZKC"
      }
    },
    {
      "cell_type": "markdown",
      "source": [
        "###**Actividad 02.01 - Desarrollar una opinión razonada del estado actual de las herramientas de análisis de datos estadísticos en contraposición a como se muestran en el artículo, R vs Python vs SQL vs Others...**"
      ],
      "metadata": {
        "id": "iR-tb9OOTlko"
      }
    },
    {
      "cell_type": "markdown",
      "source": [
        "#### Introducción"
      ],
      "metadata": {
        "id": "WNIyr5smTvyd"
      }
    },
    {
      "cell_type": "markdown",
      "source": [
        "La ciencia de datos es una de las disciplinas con más auge estos útimos años, existen multitud de lenguajes que pueden ser utilizados para este fin, actualmente algunos de los más utilizados son: Python, R, SQL, MATLAB y Julia. Iniciaremos diciendo las mayores ventajas y desventajas de cada uno para poder situarlos."
      ],
      "metadata": {
        "id": "etkyOvhzTADF"
      }
    },
    {
      "cell_type": "markdown",
      "source": [
        "##### Python"
      ],
      "metadata": {
        "id": "U4gF8cBOT6fQ"
      }
    },
    {
      "cell_type": "markdown",
      "source": [
        "Actualmente el lenguaje de progración más utilizado en el mundo. Su gran popularidad viene en parte gracias a su simplicidad siendo este muy fácil de aprender, además, cuenta de una amplia gama de módulos específicos, con paquetes muy sofisticados para aplicaciones de apredizaje automático así como un gran soporte comunitario gracias a su gran popularidad. "
      ],
      "metadata": {
        "id": "IsP917qvT-CF"
      }
    },
    {
      "cell_type": "markdown",
      "source": [
        "##### R"
      ],
      "metadata": {
        "id": "z3U92nF9U4-r"
      }
    },
    {
      "cell_type": "markdown",
      "source": [
        "Segundo lenguaje de programación más usado de los que vamos a mencionar. Entre sus fuertes tiene su gran poderío en visualización de datos y estadistica. Como Python, gracias a su popularidad R también cuenta con un gran apoyo de una comunidad muy activa y contribuyente. Dos de las desventajas que ocasionan que este por dentrás de Python en popularidad son su lentitud y su ligera desventaja en desarrollo de programas para producción o despliegue."
      ],
      "metadata": {
        "id": "NlDfpSjmU7fU"
      }
    },
    {
      "cell_type": "markdown",
      "source": [
        "##### SQL"
      ],
      "metadata": {
        "id": "bvykn0Lcnuy0"
      }
    },
    {
      "cell_type": "markdown",
      "source": [
        "SQL es un lenguaje más util para el procesamiento de datos que como herramienta analítica avanzada, ya que fue un lenguaje diseñado para administrar, definir y consultar bases de datos relacionales. Su mayor desventaja es las pocas capacidades analíticas que tiene."
      ],
      "metadata": {
        "id": "WkxVwtRhnxpU"
      }
    },
    {
      "cell_type": "markdown",
      "source": [
        "##### MATLAB"
      ],
      "metadata": {
        "id": "EwjK97uhoNRb"
      }
    },
    {
      "cell_type": "markdown",
      "source": [
        " MATLAB es el lenguaje de programación por excelencia en el mundo académico, también es muy utilizado en la industria. Este lenguaje fue diseñado para computación numerica por lo que es adecuado para aplicaciones cuantitativas con requisitos matemáticos sofistacados. Dentro de sus fuertes al igual que R también se en cuentra la visualización de datos. "
      ],
      "metadata": {
        "id": "aYmCAq9OoSXF"
      }
    },
    {
      "cell_type": "markdown",
      "source": [
        "##### Julia"
      ],
      "metadata": {
        "id": "YFMfmVdMnyBj"
      }
    },
    {
      "cell_type": "markdown",
      "source": [
        "Julia es el lenguaje de programación más reciente de los mencionados anteriormente, lo que también hace que no tenga una gran comunidad de apoyo detrás y disponga de paquetes limitados. Aun así, es un lenguaje de programación muy interesante siendo un lenguaje compilado JIT (Just In Time) que le ofrece ventajas que tienen los lenguajes interpretados como Python asi como obtener un gran rendimiento. Este lenguaje fue diseñado especificamente para el análisis numérico, aunque también ofrece la posibilidad de programación de propósitos generales."
      ],
      "metadata": {
        "id": "MLe26IKsoS00"
      }
    },
    {
      "cell_type": "markdown",
      "source": [
        "##### Conclusión\n"
      ],
      "metadata": {
        "id": "3xkVqbzqtdkh"
      }
    },
    {
      "cell_type": "markdown",
      "source": [
        "Existen muchos lenguajes de programación para ciencia de datos, todos tienen sus peculiaridades, algunos están diseñados para desarrollos especificos y otros tienen un carácter más general.\n",
        "En el articulo opinan que en los proximos años muchas de las personas que actualmente usan R se pasarán a Pyhton"
      ],
      "metadata": {
        "id": "wRzKH_1xuGw-"
      }
    },
    {
      "cell_type": "code",
      "source": [
        "popularity = pd.read_csv(\"/content/Popularity.csv\")\n",
        "popularity.head()\n",
        "popularity[\"Date\"] = pd.to_datetime(popularity[\"Date\"])\n",
        "columns = [\"Date\",\"Python\",\"R\"]\n",
        "popularity[columns]\n",
        "\n",
        "fig, ax = plt.subplots()\n",
        "fig.set_size_inches(10,8)\n",
        "axes_x = range(repes)\n",
        "ax.plot(popularity[\"Date\"], popularity[\"Python\"], label='Python')\n",
        "ax.plot(popularity[\"Date\"], popularity[\"R\"], label='R')\n",
        "plt.title(\"\\n Popularidad de Python y R desde 2004 hasta 2021\\n\", loc=\"center\", fontsize=18)\n",
        "plt.legend(loc=\"best\", prop={'size': 12})\n",
        "plt.xlabel(\"\\nAño\",fontsize=12)\n",
        "plt.ylabel(\"Porcentaje de popularidad\\n\",fontsize=12)\n",
        "plt.show()"
      ],
      "metadata": {
        "id": "x-MFk_sxryXU",
        "outputId": "1d9125fa-97d6-4ed3-be21-385a9778e46b",
        "colab": {
          "base_uri": "https://localhost:8080/",
          "height": 380
        }
      },
      "execution_count": 10,
      "outputs": [
        {
          "output_type": "error",
          "ename": "OutOfBoundsDatetime",
          "evalue": "ignored",
          "traceback": [
            "\u001b[0;31m---------------------------------------------------------------------------\u001b[0m",
            "\u001b[0;31mTypeError\u001b[0m                                 Traceback (most recent call last)",
            "\u001b[0;32m/usr/local/lib/python3.7/dist-packages/pandas/core/arrays/datetimes.py\u001b[0m in \u001b[0;36mobjects_to_datetime64ns\u001b[0;34m(data, dayfirst, yearfirst, utc, errors, require_iso8601, allow_object, allow_mixed)\u001b[0m\n\u001b[1;32m   2191\u001b[0m         \u001b[0;32mtry\u001b[0m\u001b[0;34m:\u001b[0m\u001b[0;34m\u001b[0m\u001b[0;34m\u001b[0m\u001b[0m\n\u001b[0;32m-> 2192\u001b[0;31m             \u001b[0mvalues\u001b[0m\u001b[0;34m,\u001b[0m \u001b[0mtz_parsed\u001b[0m \u001b[0;34m=\u001b[0m \u001b[0mconversion\u001b[0m\u001b[0;34m.\u001b[0m\u001b[0mdatetime_to_datetime64\u001b[0m\u001b[0;34m(\u001b[0m\u001b[0mdata\u001b[0m\u001b[0;34m.\u001b[0m\u001b[0mravel\u001b[0m\u001b[0;34m(\u001b[0m\u001b[0;34m\"K\"\u001b[0m\u001b[0;34m)\u001b[0m\u001b[0;34m)\u001b[0m\u001b[0;34m\u001b[0m\u001b[0;34m\u001b[0m\u001b[0m\n\u001b[0m\u001b[1;32m   2193\u001b[0m             \u001b[0;31m# If tzaware, these values represent unix timestamps, so we\u001b[0m\u001b[0;34m\u001b[0m\u001b[0;34m\u001b[0m\u001b[0;34m\u001b[0m\u001b[0m\n",
            "\u001b[0;32m/usr/local/lib/python3.7/dist-packages/pandas/_libs/tslibs/conversion.pyx\u001b[0m in \u001b[0;36mpandas._libs.tslibs.conversion.datetime_to_datetime64\u001b[0;34m()\u001b[0m\n",
            "\u001b[0;31mTypeError\u001b[0m: Unrecognized value type: <class 'str'>",
            "\nDuring handling of the above exception, another exception occurred:\n",
            "\u001b[0;31mOutOfBoundsDatetime\u001b[0m                       Traceback (most recent call last)",
            "\u001b[0;32m<ipython-input-10-fcfa9415d301>\u001b[0m in \u001b[0;36m<module>\u001b[0;34m()\u001b[0m\n\u001b[1;32m      1\u001b[0m \u001b[0mpopularity\u001b[0m \u001b[0;34m=\u001b[0m \u001b[0mpd\u001b[0m\u001b[0;34m.\u001b[0m\u001b[0mread_csv\u001b[0m\u001b[0;34m(\u001b[0m\u001b[0;34m\"/content/Popularity.csv\"\u001b[0m\u001b[0;34m)\u001b[0m\u001b[0;34m\u001b[0m\u001b[0;34m\u001b[0m\u001b[0m\n\u001b[1;32m      2\u001b[0m \u001b[0mpopularity\u001b[0m\u001b[0;34m.\u001b[0m\u001b[0mhead\u001b[0m\u001b[0;34m(\u001b[0m\u001b[0;34m)\u001b[0m\u001b[0;34m\u001b[0m\u001b[0;34m\u001b[0m\u001b[0m\n\u001b[0;32m----> 3\u001b[0;31m \u001b[0mpopularity\u001b[0m\u001b[0;34m[\u001b[0m\u001b[0;34m\"Date\"\u001b[0m\u001b[0;34m]\u001b[0m \u001b[0;34m=\u001b[0m \u001b[0mpd\u001b[0m\u001b[0;34m.\u001b[0m\u001b[0mto_datetime\u001b[0m\u001b[0;34m(\u001b[0m\u001b[0mpopularity\u001b[0m\u001b[0;34m[\u001b[0m\u001b[0;34m\"Date\"\u001b[0m\u001b[0;34m]\u001b[0m\u001b[0;34m)\u001b[0m\u001b[0;34m\u001b[0m\u001b[0;34m\u001b[0m\u001b[0m\n\u001b[0m\u001b[1;32m      4\u001b[0m \u001b[0mcolumns\u001b[0m \u001b[0;34m=\u001b[0m \u001b[0;34m[\u001b[0m\u001b[0;34m\"Date\"\u001b[0m\u001b[0;34m,\u001b[0m\u001b[0;34m\"Python\"\u001b[0m\u001b[0;34m,\u001b[0m\u001b[0;34m\"R\"\u001b[0m\u001b[0;34m]\u001b[0m\u001b[0;34m\u001b[0m\u001b[0;34m\u001b[0m\u001b[0m\n\u001b[1;32m      5\u001b[0m \u001b[0mpopularity\u001b[0m\u001b[0;34m[\u001b[0m\u001b[0mcolumns\u001b[0m\u001b[0;34m]\u001b[0m\u001b[0;34m\u001b[0m\u001b[0;34m\u001b[0m\u001b[0m\n",
            "\u001b[0;32m/usr/local/lib/python3.7/dist-packages/pandas/core/tools/datetimes.py\u001b[0m in \u001b[0;36mto_datetime\u001b[0;34m(arg, errors, dayfirst, yearfirst, utc, format, exact, unit, infer_datetime_format, origin, cache)\u001b[0m\n\u001b[1;32m    885\u001b[0m             \u001b[0mresult\u001b[0m \u001b[0;34m=\u001b[0m \u001b[0marg\u001b[0m\u001b[0;34m.\u001b[0m\u001b[0mmap\u001b[0m\u001b[0;34m(\u001b[0m\u001b[0mcache_array\u001b[0m\u001b[0;34m)\u001b[0m\u001b[0;34m\u001b[0m\u001b[0;34m\u001b[0m\u001b[0m\n\u001b[1;32m    886\u001b[0m         \u001b[0;32melse\u001b[0m\u001b[0;34m:\u001b[0m\u001b[0;34m\u001b[0m\u001b[0;34m\u001b[0m\u001b[0m\n\u001b[0;32m--> 887\u001b[0;31m             \u001b[0mvalues\u001b[0m \u001b[0;34m=\u001b[0m \u001b[0mconvert_listlike\u001b[0m\u001b[0;34m(\u001b[0m\u001b[0marg\u001b[0m\u001b[0;34m.\u001b[0m\u001b[0m_values\u001b[0m\u001b[0;34m,\u001b[0m \u001b[0mformat\u001b[0m\u001b[0;34m)\u001b[0m\u001b[0;34m\u001b[0m\u001b[0;34m\u001b[0m\u001b[0m\n\u001b[0m\u001b[1;32m    888\u001b[0m             \u001b[0mresult\u001b[0m \u001b[0;34m=\u001b[0m \u001b[0marg\u001b[0m\u001b[0;34m.\u001b[0m\u001b[0m_constructor\u001b[0m\u001b[0;34m(\u001b[0m\u001b[0mvalues\u001b[0m\u001b[0;34m,\u001b[0m \u001b[0mindex\u001b[0m\u001b[0;34m=\u001b[0m\u001b[0marg\u001b[0m\u001b[0;34m.\u001b[0m\u001b[0mindex\u001b[0m\u001b[0;34m,\u001b[0m \u001b[0mname\u001b[0m\u001b[0;34m=\u001b[0m\u001b[0marg\u001b[0m\u001b[0;34m.\u001b[0m\u001b[0mname\u001b[0m\u001b[0;34m)\u001b[0m\u001b[0;34m\u001b[0m\u001b[0;34m\u001b[0m\u001b[0m\n\u001b[1;32m    889\u001b[0m     \u001b[0;32melif\u001b[0m \u001b[0misinstance\u001b[0m\u001b[0;34m(\u001b[0m\u001b[0marg\u001b[0m\u001b[0;34m,\u001b[0m \u001b[0;34m(\u001b[0m\u001b[0mABCDataFrame\u001b[0m\u001b[0;34m,\u001b[0m \u001b[0mabc\u001b[0m\u001b[0;34m.\u001b[0m\u001b[0mMutableMapping\u001b[0m\u001b[0;34m)\u001b[0m\u001b[0;34m)\u001b[0m\u001b[0;34m:\u001b[0m\u001b[0;34m\u001b[0m\u001b[0;34m\u001b[0m\u001b[0m\n",
            "\u001b[0;32m/usr/local/lib/python3.7/dist-packages/pandas/core/tools/datetimes.py\u001b[0m in \u001b[0;36m_convert_listlike_datetimes\u001b[0;34m(arg, format, name, tz, unit, errors, infer_datetime_format, dayfirst, yearfirst, exact)\u001b[0m\n\u001b[1;32m    406\u001b[0m         \u001b[0merrors\u001b[0m\u001b[0;34m=\u001b[0m\u001b[0merrors\u001b[0m\u001b[0;34m,\u001b[0m\u001b[0;34m\u001b[0m\u001b[0;34m\u001b[0m\u001b[0m\n\u001b[1;32m    407\u001b[0m         \u001b[0mrequire_iso8601\u001b[0m\u001b[0;34m=\u001b[0m\u001b[0mrequire_iso8601\u001b[0m\u001b[0;34m,\u001b[0m\u001b[0;34m\u001b[0m\u001b[0;34m\u001b[0m\u001b[0m\n\u001b[0;32m--> 408\u001b[0;31m         \u001b[0mallow_object\u001b[0m\u001b[0;34m=\u001b[0m\u001b[0;32mTrue\u001b[0m\u001b[0;34m,\u001b[0m\u001b[0;34m\u001b[0m\u001b[0;34m\u001b[0m\u001b[0m\n\u001b[0m\u001b[1;32m    409\u001b[0m     )\n\u001b[1;32m    410\u001b[0m \u001b[0;34m\u001b[0m\u001b[0m\n",
            "\u001b[0;32m/usr/local/lib/python3.7/dist-packages/pandas/core/arrays/datetimes.py\u001b[0m in \u001b[0;36mobjects_to_datetime64ns\u001b[0;34m(data, dayfirst, yearfirst, utc, errors, require_iso8601, allow_object, allow_mixed)\u001b[0m\n\u001b[1;32m   2196\u001b[0m             \u001b[0;32mreturn\u001b[0m \u001b[0mvalues\u001b[0m\u001b[0;34m.\u001b[0m\u001b[0mview\u001b[0m\u001b[0;34m(\u001b[0m\u001b[0;34m\"i8\"\u001b[0m\u001b[0;34m)\u001b[0m\u001b[0;34m,\u001b[0m \u001b[0mtz_parsed\u001b[0m\u001b[0;34m\u001b[0m\u001b[0;34m\u001b[0m\u001b[0m\n\u001b[1;32m   2197\u001b[0m         \u001b[0;32mexcept\u001b[0m \u001b[0;34m(\u001b[0m\u001b[0mValueError\u001b[0m\u001b[0;34m,\u001b[0m \u001b[0mTypeError\u001b[0m\u001b[0;34m)\u001b[0m\u001b[0;34m:\u001b[0m\u001b[0;34m\u001b[0m\u001b[0;34m\u001b[0m\u001b[0m\n\u001b[0;32m-> 2198\u001b[0;31m             \u001b[0;32mraise\u001b[0m \u001b[0merr\u001b[0m\u001b[0;34m\u001b[0m\u001b[0;34m\u001b[0m\u001b[0m\n\u001b[0m\u001b[1;32m   2199\u001b[0m \u001b[0;34m\u001b[0m\u001b[0m\n\u001b[1;32m   2200\u001b[0m     \u001b[0;32mif\u001b[0m \u001b[0mtz_parsed\u001b[0m \u001b[0;32mis\u001b[0m \u001b[0;32mnot\u001b[0m \u001b[0;32mNone\u001b[0m\u001b[0;34m:\u001b[0m\u001b[0;34m\u001b[0m\u001b[0;34m\u001b[0m\u001b[0m\n",
            "\u001b[0;32m/usr/local/lib/python3.7/dist-packages/pandas/core/arrays/datetimes.py\u001b[0m in \u001b[0;36mobjects_to_datetime64ns\u001b[0;34m(data, dayfirst, yearfirst, utc, errors, require_iso8601, allow_object, allow_mixed)\u001b[0m\n\u001b[1;32m   2185\u001b[0m             \u001b[0myearfirst\u001b[0m\u001b[0;34m=\u001b[0m\u001b[0myearfirst\u001b[0m\u001b[0;34m,\u001b[0m\u001b[0;34m\u001b[0m\u001b[0;34m\u001b[0m\u001b[0m\n\u001b[1;32m   2186\u001b[0m             \u001b[0mrequire_iso8601\u001b[0m\u001b[0;34m=\u001b[0m\u001b[0mrequire_iso8601\u001b[0m\u001b[0;34m,\u001b[0m\u001b[0;34m\u001b[0m\u001b[0;34m\u001b[0m\u001b[0m\n\u001b[0;32m-> 2187\u001b[0;31m             \u001b[0mallow_mixed\u001b[0m\u001b[0;34m=\u001b[0m\u001b[0mallow_mixed\u001b[0m\u001b[0;34m,\u001b[0m\u001b[0;34m\u001b[0m\u001b[0;34m\u001b[0m\u001b[0m\n\u001b[0m\u001b[1;32m   2188\u001b[0m         )\n\u001b[1;32m   2189\u001b[0m         \u001b[0mresult\u001b[0m \u001b[0;34m=\u001b[0m \u001b[0mresult\u001b[0m\u001b[0;34m.\u001b[0m\u001b[0mreshape\u001b[0m\u001b[0;34m(\u001b[0m\u001b[0mdata\u001b[0m\u001b[0;34m.\u001b[0m\u001b[0mshape\u001b[0m\u001b[0;34m,\u001b[0m \u001b[0morder\u001b[0m\u001b[0;34m=\u001b[0m\u001b[0morder\u001b[0m\u001b[0;34m)\u001b[0m\u001b[0;34m\u001b[0m\u001b[0;34m\u001b[0m\u001b[0m\n",
            "\u001b[0;32m/usr/local/lib/python3.7/dist-packages/pandas/_libs/tslib.pyx\u001b[0m in \u001b[0;36mpandas._libs.tslib.array_to_datetime\u001b[0;34m()\u001b[0m\n",
            "\u001b[0;32m/usr/local/lib/python3.7/dist-packages/pandas/_libs/tslib.pyx\u001b[0m in \u001b[0;36mpandas._libs.tslib.array_to_datetime\u001b[0;34m()\u001b[0m\n",
            "\u001b[0;32m/usr/local/lib/python3.7/dist-packages/pandas/_libs/tslib.pyx\u001b[0m in \u001b[0;36mpandas._libs.tslib.array_to_datetime\u001b[0;34m()\u001b[0m\n",
            "\u001b[0;32m/usr/local/lib/python3.7/dist-packages/pandas/_libs/tslib.pyx\u001b[0m in \u001b[0;36mpandas._libs.tslib.array_to_datetime\u001b[0;34m()\u001b[0m\n",
            "\u001b[0;32m/usr/local/lib/python3.7/dist-packages/pandas/_libs/tslibs/conversion.pyx\u001b[0m in \u001b[0;36mpandas._libs.tslibs.conversion.convert_datetime_to_tsobject\u001b[0;34m()\u001b[0m\n",
            "\u001b[0;32m/usr/local/lib/python3.7/dist-packages/pandas/_libs/tslibs/np_datetime.pyx\u001b[0m in \u001b[0;36mpandas._libs.tslibs.np_datetime.check_dts_bounds\u001b[0;34m()\u001b[0m\n",
            "\u001b[0;31mOutOfBoundsDatetime\u001b[0m: Out of bounds nanosecond timestamp: 1-07-04 00:00:00"
          ]
        }
      ]
    }
  ],
  "metadata": {
    "kernelspec": {
      "display_name": "Python 3 (ipykernel)",
      "language": "python",
      "name": "python3"
    },
    "language_info": {
      "codemirror_mode": {
        "name": "ipython",
        "version": 3
      },
      "file_extension": ".py",
      "mimetype": "text/x-python",
      "name": "python",
      "nbconvert_exporter": "python",
      "pygments_lexer": "ipython3",
      "version": "3.9.1"
    },
    "colab": {
      "name": "Copia de Copia de 01MIAR_ACT_WhitePapers.ipynb",
      "provenance": [],
      "include_colab_link": true
    }
  },
  "nbformat": 4,
  "nbformat_minor": 0
}