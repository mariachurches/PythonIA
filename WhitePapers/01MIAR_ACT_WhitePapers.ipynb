{
  "cells": [
    {
      "cell_type": "markdown",
      "metadata": {
        "id": "view-in-github",
        "colab_type": "text"
      },
      "source": [
        "<a href=\"https://colab.research.google.com/github/mariachurches/PythonIA/blob/main/WhitePapers/01MIAR_ACT_WhitePapers.ipynb\" target=\"_parent\"><img src=\"https://colab.research.google.com/assets/colab-badge.svg\" alt=\"Open In Colab\"/></a>"
      ]
    },
    {
      "cell_type": "markdown",
      "metadata": {
        "id": "Nvlx_fz-_-wb"
      },
      "source": [
        "<img src=\"https://github.com/mariachurches/PythonIA/blob/main/img/viu_logo.png?raw=1\" width=\"200\">\n",
        "\n",
        "## 01MIAR - Actividad Whitepapers - María Iglesias Veiga\n",
        "\n",
        "\n"
      ]
    },
    {
      "cell_type": "markdown",
      "source": [
        "**Librerias necesarias para el desarrollo de las actividades**"
      ],
      "metadata": {
        "id": "wxntVZ8Y22lo"
      }
    },
    {
      "cell_type": "code",
      "source": [
        "import os\n",
        "import sys\n",
        "import mmap\n",
        "import random\n",
        "import numpy as np\n",
        "from time import time\n",
        "import matplotlib.pyplot as plt"
      ],
      "metadata": {
        "id": "ra5n7SDD3VbX"
      },
      "execution_count": 101,
      "outputs": []
    },
    {
      "cell_type": "markdown",
      "metadata": {
        "id": "RGQHgJaS_-wd"
      },
      "source": [
        "## Artículo 01\n",
        "\n",
        "### The NumPy array: a structure for efficient numerical computation\n",
        "\n",
        "Van Der Walt, S., Colbert, S. C., &amp; Varoquaux, G. (2011). The NumPy array: A\n",
        "structure for efficient numerical computation. Computing in Science and\n",
        "Engineering, 13(2), 22-30. https://doi.org/10.1109/MCSE.2011.37\n",
        "\n",
        "https://www.researchgate.net/publication/224223550_The_NumPy_Array_A_Structure_for_Efficient_Numerical_Computation\n",
        "\n",
        "En este artículo se presenta la estructura *ndarray* de NumPy, y se hace un estudio sobre su uso y cómo mejora el rendimiento de ciertas operaciones matemáticas para la computación numérica.\n",
        "\n",
        "Se hace una breve introducción al *Broadcasting* como técnica que usa NumPy para realizar operaciones artiméticas sobre dos o más arrays con distintas dimensiones. \n",
        "\n",
        "- Actividad 01.01 - Ampliar dicha explicación, aportando posibles restricciones o limitaciones a dicho sistema y ejemplos propios de los casos de uso.\n",
        "\n",
        "También se introduce el trabajo con ficheros usando memoria mapeada.\n",
        "\n",
        "- Actividad 01.02 - Verificar la eficacia y mejora posible de rendimiento del uso de dicha técnica sobre ndarrays de tamaños grandes."
      ]
    },
    {
      "cell_type": "markdown",
      "source": [
        "# **Artículo 01 - The NumPy array: a structure for efficient numerical computation**\n",
        "\n"
      ],
      "metadata": {
        "id": "xWf6_EOMhIPw"
      }
    },
    {
      "cell_type": "markdown",
      "source": [
        "## **Actividad 01.01 - Ampliar dicha explicación, aportando posibles restricciones o limitaciones a dicho sistema y ejemplos propios de los casos de uso.**"
      ],
      "metadata": {
        "id": "P8UktmbQh7XK"
      }
    },
    {
      "cell_type": "markdown",
      "source": [
        "###01.01.1 ¿Qué significa el término broadcasting?"
      ],
      "metadata": {
        "id": "bL4tEGQkHCVf"
      }
    },
    {
      "cell_type": "markdown",
      "source": [
        "El término Broadcasting hace referencia a la estrategia que usa numpy para hacer operaciones entre arrays de diferentes tamaños. El array de menor tamaño se propaga a traves del array de mayor tamaño, haciendo las dimensiones compatibles."
      ],
      "metadata": {
        "id": "f8Yf-nfJLMPs"
      }
    },
    {
      "cell_type": "markdown",
      "source": [
        "###01.01.2 ¿Qué ventajas proporciona?"
      ],
      "metadata": {
        "id": "LVOYrzJuK1hb"
      }
    },
    {
      "cell_type": "markdown",
      "source": [
        "Esta estrategia consigue evitar las copias innecesarias de datos en memoria. Esta ventaja se puede ver fácilmente en un ejemplo muy sencillo:"
      ],
      "metadata": {
        "id": "avWVYEE2LSiY"
      }
    },
    {
      "cell_type": "code",
      "source": [
        "# Ejemplo 1 - Sin usar Broadcasting.\n",
        "array_a = np.array([1,2,3,4,5])\n",
        "array_b = np.array([5,5,5,5,5])\n",
        "print(f\"Dimensiones del array_a {array_a.shape} , dimensiones del array_b {array_b.shape}\")\n",
        "print(f\"Tamaño que ocupan en memoria ambas variables {sys.getsizeof(array_a) + sys.getsizeof(array_b)}\")\n",
        "array_a * array_b"
      ],
      "metadata": {
        "id": "WFXOpt8FL1nI",
        "outputId": "fdbec926-6992-4e19-8578-bd583502d806",
        "colab": {
          "base_uri": "https://localhost:8080/"
        }
      },
      "execution_count": 102,
      "outputs": [
        {
          "output_type": "stream",
          "name": "stdout",
          "text": [
            "Dimensiones del array_a (5,) , dimensiones del array_b (5,)\n",
            "Tamaño que ocupan en memoria ambas variables 288\n"
          ]
        },
        {
          "output_type": "execute_result",
          "data": {
            "text/plain": [
              "array([ 5, 10, 15, 20, 25])"
            ]
          },
          "metadata": {},
          "execution_count": 102
        }
      ]
    },
    {
      "cell_type": "code",
      "source": [
        "# Ejemplo 2 - Usando Broadcasting\n",
        "array_a = np.array([1,2,3,4,5])\n",
        "array_b = 5\n",
        "\n",
        "print(f\"Dimensiones del array_a {array_a.shape}\")\n",
        "print(f\"Tamaño que ocupan en memoria ambas variables {sys.getsizeof(array_a) + sys.getsizeof(array_b)}\")\n",
        "array_a * array_b"
      ],
      "metadata": {
        "id": "DrUNdVXtL13t",
        "outputId": "a4c8e12b-8e25-4dc0-fff7-29ec28918930",
        "colab": {
          "base_uri": "https://localhost:8080/"
        }
      },
      "execution_count": 103,
      "outputs": [
        {
          "output_type": "stream",
          "name": "stdout",
          "text": [
            "Dimensiones del array_a (5,)\n",
            "Tamaño que ocupan en memoria ambas variables 172\n"
          ]
        },
        {
          "output_type": "execute_result",
          "data": {
            "text/plain": [
              "array([ 5, 10, 15, 20, 25])"
            ]
          },
          "metadata": {},
          "execution_count": 103
        }
      ]
    },
    {
      "cell_type": "markdown",
      "source": [
        "En los ejemplos 1 y 2 podemos ver dos estrategias diferentes de multiplicación de numpy arrays, en el primer ejemplo vemos como al no usar la técnica de broadcasting almacenamos en memoria dos arrays de 5 elementos, en cambio en el ejemplo 2 beneficiandonos del uso de broadcasting podemos realizar la misma operación únicamente almacenando un array y un entero ya que está estrategia se encarga de propagar la variable de menor dimensión (en este caso array_b que es un entero) sobre la variable de mayor dimension."
      ],
      "metadata": {
        "id": "dzpvo00ZNKO0"
      }
    },
    {
      "cell_type": "markdown",
      "source": [
        " lo que consigue hacer algoritmos más eficientes."
      ],
      "metadata": {
        "id": "ZzU8RuXnLsvU"
      }
    },
    {
      "cell_type": "markdown",
      "source": [
        "###01.01.3 ¿Qué limitaciones presenta?"
      ],
      "metadata": {
        "id": "2Wb6Jew0K9h3"
      }
    },
    {
      "cell_type": "markdown",
      "source": [
        ""
      ],
      "metadata": {
        "id": "qa3iwvqBK1yH"
      }
    },
    {
      "cell_type": "markdown",
      "source": [
        "Aun con todas sus ventajas, existen restricciones en esta estrategia, ya que en ciertos casos el Broadcasting es una mala idea ya que conduce a un uso ineficiente de la memoria ralentizando el cálculo."
      ],
      "metadata": {
        "id": "o5k6JmV5h9No"
      }
    },
    {
      "cell_type": "markdown",
      "source": [
        "Ejemplos de broadcasting:"
      ],
      "metadata": {
        "id": "2P730kgSkKDM"
      }
    },
    {
      "cell_type": "markdown",
      "source": [
        "Después del broadcasting la matriz resultante tendrá la dimensión mayor de cada uno de los elementos."
      ],
      "metadata": {
        "id": "anu0gD_c5exQ"
      }
    },
    {
      "cell_type": "code",
      "source": [
        "#Caso 1\n",
        "a = np.arange(10).reshape(2,5)\n",
        "b = np.ones((5))\n",
        "c = a+b\n",
        "print(c)\n",
        "print(\"\\nShape a\" , a.shape)\n",
        "print(\"Shape b\" , b.shape)\n",
        "print(\"Shape c\" , c.shape)"
      ],
      "metadata": {
        "colab": {
          "base_uri": "https://localhost:8080/"
        },
        "id": "OKCvas5m1Oyd",
        "outputId": "562b0215-c472-4879-b8b2-7e67029e6600"
      },
      "execution_count": 104,
      "outputs": [
        {
          "output_type": "stream",
          "name": "stdout",
          "text": [
            "[[ 1.  2.  3.  4.  5.]\n",
            " [ 6.  7.  8.  9. 10.]]\n",
            "\n",
            "Shape a (2, 5)\n",
            "Shape b (5,)\n",
            "Shape c (2, 5)\n"
          ]
        }
      ]
    },
    {
      "cell_type": "code",
      "source": [
        "#Caso 2\n",
        "a = np.arange(10).reshape(10,1)\n",
        "b = np.ones((5)).reshape(1,5)\n",
        "c = a+b\n",
        "print(c)\n",
        "\n",
        "print(\"\\nShape a\" , a.shape)\n",
        "print(\"Shape b\" , b.shape)\n",
        "print(\"Shape c\" , c.shape)"
      ],
      "metadata": {
        "colab": {
          "base_uri": "https://localhost:8080/"
        },
        "id": "jINzZPW32Kxl",
        "outputId": "ce541947-c3d2-45b8-bc29-fe2bce461d9c"
      },
      "execution_count": 105,
      "outputs": [
        {
          "output_type": "stream",
          "name": "stdout",
          "text": [
            "[[ 1.  1.  1.  1.  1.]\n",
            " [ 2.  2.  2.  2.  2.]\n",
            " [ 3.  3.  3.  3.  3.]\n",
            " [ 4.  4.  4.  4.  4.]\n",
            " [ 5.  5.  5.  5.  5.]\n",
            " [ 6.  6.  6.  6.  6.]\n",
            " [ 7.  7.  7.  7.  7.]\n",
            " [ 8.  8.  8.  8.  8.]\n",
            " [ 9.  9.  9.  9.  9.]\n",
            " [10. 10. 10. 10. 10.]]\n",
            "\n",
            "Shape a (10, 1)\n",
            "Shape b (1, 5)\n",
            "Shape c (10, 5)\n"
          ]
        }
      ]
    },
    {
      "cell_type": "markdown",
      "source": [
        "Restricciones y limitaciones de broadcasting:"
      ],
      "metadata": {
        "id": "jSK7oOoS1PoX"
      }
    },
    {
      "cell_type": "markdown",
      "source": [
        "Las matrices se pueden transmitir juntas si son compatibles con todas las dimensiones."
      ],
      "metadata": {
        "id": "hBburoUG7MXX"
      }
    },
    {
      "cell_type": "code",
      "source": [
        "#Limitación de caso 1\n",
        "a = np.arange(10).reshape(2,5)\n",
        "b = np.ones((6))\n",
        "print(a+b)"
      ],
      "metadata": {
        "colab": {
          "base_uri": "https://localhost:8080/",
          "height": 208
        },
        "id": "4PwNUgeS1TuB",
        "outputId": "5bb8dd00-69be-4180-b33b-b032b98cc885"
      },
      "execution_count": 106,
      "outputs": [
        {
          "output_type": "error",
          "ename": "ValueError",
          "evalue": "ignored",
          "traceback": [
            "\u001b[0;31m---------------------------------------------------------------------------\u001b[0m",
            "\u001b[0;31mValueError\u001b[0m                                Traceback (most recent call last)",
            "\u001b[0;32m<ipython-input-106-99bd94797a86>\u001b[0m in \u001b[0;36m<module>\u001b[0;34m()\u001b[0m\n\u001b[1;32m      2\u001b[0m \u001b[0ma\u001b[0m \u001b[0;34m=\u001b[0m \u001b[0mnp\u001b[0m\u001b[0;34m.\u001b[0m\u001b[0marange\u001b[0m\u001b[0;34m(\u001b[0m\u001b[0;36m10\u001b[0m\u001b[0;34m)\u001b[0m\u001b[0;34m.\u001b[0m\u001b[0mreshape\u001b[0m\u001b[0;34m(\u001b[0m\u001b[0;36m2\u001b[0m\u001b[0;34m,\u001b[0m\u001b[0;36m5\u001b[0m\u001b[0;34m)\u001b[0m\u001b[0;34m\u001b[0m\u001b[0;34m\u001b[0m\u001b[0m\n\u001b[1;32m      3\u001b[0m \u001b[0mb\u001b[0m \u001b[0;34m=\u001b[0m \u001b[0mnp\u001b[0m\u001b[0;34m.\u001b[0m\u001b[0mones\u001b[0m\u001b[0;34m(\u001b[0m\u001b[0;34m(\u001b[0m\u001b[0;36m6\u001b[0m\u001b[0;34m)\u001b[0m\u001b[0;34m)\u001b[0m\u001b[0;34m\u001b[0m\u001b[0;34m\u001b[0m\u001b[0m\n\u001b[0;32m----> 4\u001b[0;31m \u001b[0mprint\u001b[0m\u001b[0;34m(\u001b[0m\u001b[0ma\u001b[0m\u001b[0;34m+\u001b[0m\u001b[0mb\u001b[0m\u001b[0;34m)\u001b[0m\u001b[0;34m\u001b[0m\u001b[0;34m\u001b[0m\u001b[0m\n\u001b[0m",
            "\u001b[0;31mValueError\u001b[0m: operands could not be broadcast together with shapes (2,5) (6,) "
          ]
        }
      ]
    },
    {
      "cell_type": "markdown",
      "source": [
        ""
      ],
      "metadata": {
        "id": "FpL_BDsP4Mpy"
      }
    },
    {
      "cell_type": "code",
      "source": [
        "#Limitación de caso 2\n",
        "a = np.arange(10).reshape(10,1)\n",
        "b = np.ones((5)).reshape(5,1)\n",
        "print(a+b)"
      ],
      "metadata": {
        "id": "gWRiiIEP2ZBu"
      },
      "execution_count": null,
      "outputs": []
    },
    {
      "cell_type": "markdown",
      "source": [
        "##**Actividad 01.02 - Verificar la eficacia y mejora posible de rendimiento del uso de dicha técnica sobre ndarrays de tamaños grandes.**"
      ],
      "metadata": {
        "id": "wJFGxsr0KuBJ"
      }
    },
    {
      "cell_type": "markdown",
      "source": [
        ""
      ],
      "metadata": {
        "id": "9pb4ZhYDLEiZ"
      }
    },
    {
      "cell_type": "markdown",
      "metadata": {
        "id": "fCR03ddvKzxF"
      },
      "source": [
        "## Artículo 01\n",
        "\n",
        "### The NumPy array: a structure for efficient numerical computation\n",
        "\n",
        "Van Der Walt, S., Colbert, S. C., &amp; Varoquaux, G. (2011). The NumPy array: A\n",
        "structure for efficient numerical computation. Computing in Science and\n",
        "Engineering, 13(2), 22-30. https://doi.org/10.1109/MCSE.2011.37\n",
        "\n",
        "https://www.researchgate.net/publication/224223550_The_NumPy_Array_A_Structure_for_Efficient_Numerical_Computation\n",
        "\n",
        "En este artículo se presenta la estructura *ndarray* de NumPy, y se hace un estudio sobre su uso y cómo mejora el rendimiento de ciertas operaciones matemáticas para la computación numérica.\n",
        "\n",
        "Se hace una breve introducción al *Broadcasting* como técnica que usa NumPy para realizar operaciones artiméticas sobre dos o más arrays con distintas dimensiones. \n",
        "\n",
        "- Actividad 01.01 - Ampliar dicha explicación, aportando posibles restricciones o limitaciones a dicho sistema y ejemplos propios de los casos de uso.\n",
        "\n",
        "También se introduce el trabajo con ficheros usando memoria mapeada.\n",
        "\n",
        "- Actividad 01.02 - Verificar la eficacia y mejora posible de rendimiento del uso de dicha técnica sobre ndarrays de tamaños grandes."
      ]
    },
    {
      "cell_type": "markdown",
      "source": [
        "Memory mapping, mirar apartado de I/o mapping\n",
        "La ventaja del memory mapping es que en lugar de cargar directamente el vector en memoria y trabajar sobre memoria para despues volver a guarlo se puede hacer un mapeo de ese fichero directamente a memoria y acceder a esas posiciones del fichero directamenten sin cargar todo el array entero.\n",
        "Podemos ver como para ciertas operaciones puede ser muy buena tecnica, por ejemplo si quiero cambiar solo una celda en un fichero de mil millones de elementos pues igual no es buena idea cargar los mil millones de elementos en memoria y luego volver a cargarlos en disco, entonces esta tecnica de mapeo de memoria puede ayudarnos a eso.\n",
        "Hacer un ejemplillo de time it para mirar el tiempor de la ejecución de una tecnica, mirar si de verdad es una vuena idea y encontrar un ejemplo práctico que usemos el memory mapping y no, y comprobemos los resultados de ambos\n",
        "\n",
        "Narrarlo un poco\n",
        "\n",
        "Buscar una caso en que sea buen ejemplo \n",
        "yo meteria otro campo que funcionase mal\n"
      ],
      "metadata": {
        "id": "0jUL6flnOPHN"
      }
    },
    {
      "cell_type": "markdown",
      "source": [
        "*Nota: Este ejemplo se hace con un total de 14 repeticiones para que en el gráfico resultante se aprecien las diferencias, aun así, se ha dejado la variable repes por si se quiere bajar o aumentar el número de iteraciones de este. (tiempo estimado de ejecución: 1min 14segs)*"
      ],
      "metadata": {
        "id": "tnxCqOR2n25C"
      }
    },
    {
      "cell_type": "code",
      "source": [
        "random.seed(0)\n",
        "def crear_fichero(t):\n",
        "  file = open(\"/content/file.txt\", \"w\")\n",
        "  for i in range(t+1):\n",
        "    file.write(\"C++\")\n",
        "    if i == int(random.random()*t) : file.write(\"Python\") \n",
        "  file.close()"
      ],
      "metadata": {
        "id": "rZ7XtsH08sJ9"
      },
      "execution_count": 107,
      "outputs": []
    },
    {
      "cell_type": "code",
      "source": [
        "from ssl import SSLErrorNumber\n",
        "#Creación de estructuras de clases necesarias\n",
        "repes = 15\n",
        "tamaño = 1\n",
        "sin_mapeo = []\n",
        "con_mapeo = []\n",
        "\n",
        "#Prueba de lectura de datos con y sin mapeo\n",
        "for i in range(repes):\n",
        "  if i % 2 == 0: tamaño*=2 \n",
        "  else: tamaño*=5\n",
        "  crear_fichero(tamaño)\n",
        "  \n",
        "  #Ejemplo con lectura normal de fichero\n",
        "  t_no_mmap_start_read = time() \n",
        "  with open(\"/content/file.txt\", mode=\"r\") as fbn:\n",
        "    texto = fbn.read()\n",
        "    texto.find(\"Python\")\n",
        "  t_no_mmap_start_end = time() \n",
        "\n",
        "  #Ejemplo usando memory mapping\n",
        "  t_mmap_start_read = time() \n",
        "  with open(\"/content/file.txt\", mode=\"r\") as fbm:\n",
        "    with mmap.mmap(fbm.fileno(), 0, access= mmap.ACCESS_READ) as mmap_o:\n",
        "      mmap_o.find(b\"Python\")\n",
        "  t_mmap_end_read = time()\n",
        "  \n",
        "  #Comparamos los resultados\n",
        "  sin_mapeo.append(t_no_mmap_start_end - t_no_mmap_start_read)\n",
        "  con_mapeo.append(t_mmap_end_read - t_mmap_start_read)\n",
        "  print('Tamaño del fichero : {0}'.format(tamaño+1))\n",
        "  print('Tiempo sin mapeo de memoria : {0}'.format(sin_mapeo[-1]))\n",
        "  print('Tiempo con mapeo de memoria : {0}'.format(con_mapeo[-1]))\n",
        "\n",
        "#Visualizamos los datos\n",
        "fig, ax = plt.subplots()\n",
        "axes_x = range(repes)\n",
        "ax.plot(axes_x, sin_mapeo, marker = '^')\n",
        "ax.plot(axes_x, con_mapeo, marker = 'o')\n",
        "plt.show()\n",
        "\n",
        "results = list(map(lambda x, y: x > y, sin_mapeo, con_mapeo))\n",
        "if all(results) : print(\"La ejecución sin mapeo de memoria ha ocasionado una disminución de lectura para todos los tamaños de fichero\")\n",
        "else:\n",
        "  print(f\"El mapeo de memoria ha tardado menos tiempo de ejecución {sum(results)} de las {repes} repeticiones\")"
      ],
      "metadata": {
        "id": "TftOkSWzIcdL",
        "outputId": "546f90ed-5197-4a7a-9435-c581e7044180",
        "colab": {
          "base_uri": "https://localhost:8080/",
          "height": 1000
        }
      },
      "execution_count": 130,
      "outputs": [
        {
          "output_type": "stream",
          "name": "stdout",
          "text": [
            "Tamaño del fichero : 3\n",
            "Tiempo sin mapeo de memoria : 9.083747863769531e-05\n",
            "Tiempo con mapeo de memoria : 0.00010156631469726562\n",
            "Tamaño del fichero : 11\n",
            "Tiempo sin mapeo de memoria : 0.00010013580322265625\n",
            "Tiempo con mapeo de memoria : 6.461143493652344e-05\n",
            "Tamaño del fichero : 21\n",
            "Tiempo sin mapeo de memoria : 7.367134094238281e-05\n",
            "Tiempo con mapeo de memoria : 5.3882598876953125e-05\n",
            "Tamaño del fichero : 101\n",
            "Tiempo sin mapeo de memoria : 8.249282836914062e-05\n",
            "Tiempo con mapeo de memoria : 5.1021575927734375e-05\n",
            "Tamaño del fichero : 201\n",
            "Tiempo sin mapeo de memoria : 7.796287536621094e-05\n",
            "Tiempo con mapeo de memoria : 5.3882598876953125e-05\n",
            "Tamaño del fichero : 1001\n",
            "Tiempo sin mapeo de memoria : 7.891654968261719e-05\n",
            "Tiempo con mapeo de memoria : 5.316734313964844e-05\n",
            "Tamaño del fichero : 2001\n",
            "Tiempo sin mapeo de memoria : 6.937980651855469e-05\n",
            "Tiempo con mapeo de memoria : 5.364418029785156e-05\n",
            "Tamaño del fichero : 10001\n",
            "Tiempo sin mapeo de memoria : 0.00011157989501953125\n",
            "Tiempo con mapeo de memoria : 8.320808410644531e-05\n",
            "Tamaño del fichero : 20001\n",
            "Tiempo sin mapeo de memoria : 0.00013113021850585938\n",
            "Tiempo con mapeo de memoria : 9.965896606445312e-05\n",
            "Tamaño del fichero : 100001\n",
            "Tiempo sin mapeo de memoria : 0.0005104541778564453\n",
            "Tiempo con mapeo de memoria : 0.00015592575073242188\n",
            "Tamaño del fichero : 200001\n",
            "Tiempo sin mapeo de memoria : 0.0010902881622314453\n",
            "Tiempo con mapeo de memoria : 0.00046944618225097656\n",
            "Tamaño del fichero : 1000001\n",
            "Tiempo sin mapeo de memoria : 0.00493168830871582\n",
            "Tiempo con mapeo de memoria : 0.0011763572692871094\n",
            "Tamaño del fichero : 2000001\n",
            "Tiempo sin mapeo de memoria : 0.010431528091430664\n",
            "Tiempo con mapeo de memoria : 0.0009613037109375\n",
            "Tamaño del fichero : 10000001\n",
            "Tiempo sin mapeo de memoria : 0.03236103057861328\n",
            "Tiempo con mapeo de memoria : 0.018367528915405273\n",
            "Tamaño del fichero : 20000001\n",
            "Tiempo sin mapeo de memoria : 0.05611777305603027\n",
            "Tiempo con mapeo de memoria : 0.013361215591430664\n"
          ]
        },
        {
          "output_type": "display_data",
          "data": {
            "image/png": "[encoded data removed]",
            "text/plain": [
              "<Figure size 432x288 with 1 Axes>"
            ]
          },
          "metadata": {
            "needs_background": "light"
          }
        },
        {
          "output_type": "stream",
          "name": "stdout",
          "text": [
            "El mapeo de memoria ha tardado menos tiempo de ejecución 14 de las 15 repeticiones\n"
          ]
        }
      ]
    },
    {
      "cell_type": "markdown",
      "source": [
        "Como podemos observar a mayor tamaño de fichero mayor es la diferencia en el  tiempo de ejecución, diferenciandose cada vez más la mejoría usando la técnica de memory mapping. "
      ],
      "metadata": {
        "id": "mTbj1y9DrzOr"
      }
    },
    {
      "cell_type": "markdown",
      "metadata": {
        "id": "2Oqz9x3E_-wd"
      },
      "source": [
        "## Artículo 02\n",
        "\n",
        "### Data Structures for Statistical Computing in Python\n",
        "\n",
        "McKinney, W. (2010). Data Structures for Statistical Computing in Python.\n",
        "Proceedings of the 9th Python in Science Conference, December, 56-61.\n",
        "https://doi.org/10.25080/majora-92bf1922-00a\n",
        "\n",
        "https://www.researchgate.net/publication/265001241_Data_Structures_for_Statistical_Computing_in_Python\n"
      ]
    },
    {
      "cell_type": "markdown",
      "source": [
        "Creen que hacia años benideros habrá una gran posibilidad de traer usuarios hacia python desde R.. Matlab.. \n",
        "Un grafico estaría guapo\n",
        "Decir que desde que pandas se introdujo hace ya unos años\n",
        "Tendencias actuales, uso que hace la gente\n",
        "R pa que se usa cuales son sus fuertes frente a python\n",
        "porque python se usa mas que el resto de herramientas\n",
        "porque sql se usa para cosas determinadas y no otras\n",
        "Matlab\n",
        "Julia\n",
        "Estados actual de herramientas de ciencias de datos en 2021\n",
        "Empiezo de 0 en ciencia de datos y quiero ver que tecnologias estan disponibles\n",
        "y quiero una pequeña comparación entre ellas"
      ],
      "metadata": {
        "id": "_hajIXMSMZKC"
      }
    },
    {
      "cell_type": "markdown",
      "source": [
        "###**Actividad 02.01 - Desarrollar una opinión razonada del estado actual de las herramientas de análisis de datos estadísticos en contraposición a como se muestran en el artículo, R vs Python vs SQL vs Others...**"
      ],
      "metadata": {
        "id": "iR-tb9OOTlko"
      }
    },
    {
      "cell_type": "markdown",
      "source": [
        "#### Introducción"
      ],
      "metadata": {
        "id": "WNIyr5smTvyd"
      }
    },
    {
      "cell_type": "markdown",
      "source": [
        "La ciencia de datos es una de las disciplinas con más auge estos útimos años, existen multitud de lenguajes que pueden ser utilizados para este fin, actualmente algunos de los más utilizados son: Python, R, SQL, MATLAB y Julia. Iniciaremos diciendo las mayores ventajas y desventajas de cada uno para poder situarlos."
      ],
      "metadata": {
        "id": "etkyOvhzTADF"
      }
    },
    {
      "cell_type": "markdown",
      "source": [
        "##### Python"
      ],
      "metadata": {
        "id": "U4gF8cBOT6fQ"
      }
    },
    {
      "cell_type": "markdown",
      "source": [
        "Actualmente el lenguaje de progración más utilizado en el mundo. Su gran popularidad viene en parte gracias a su simplicidad siendo este muy fácil de aprender, además, cuenta de una amplia gama de módulos específicos, con paquetes muy sofisticados para aplicaciones de apredizaje automático así como un gran soporte comunitario gracias a su gran popularidad. "
      ],
      "metadata": {
        "id": "IsP917qvT-CF"
      }
    },
    {
      "cell_type": "markdown",
      "source": [
        "##### R"
      ],
      "metadata": {
        "id": "z3U92nF9U4-r"
      }
    },
    {
      "cell_type": "markdown",
      "source": [
        "Segundo lenguaje de programación más usado de los que vamos a mencionar. Entre sus fuertes tiene su gran poderío en visualización de datos y estadistica. Como Python, gracias a su popularidad R también cuenta con un gran apoyo de una comunidad muy activa y contribuyente."
      ],
      "metadata": {
        "id": "NlDfpSjmU7fU"
      }
    },
    {
      "cell_type": "markdown",
      "source": [
        "##### SQL"
      ],
      "metadata": {
        "id": "bvykn0Lcnuy0"
      }
    },
    {
      "cell_type": "markdown",
      "source": [
        "SQL es un lenguaje más util para el procesamiento de datos que como herramienta analítica avanzada, ya que fue un lenguaje diseñado para administrar, definir y consultar bases de datos relacionales. "
      ],
      "metadata": {
        "id": "WkxVwtRhnxpU"
      }
    },
    {
      "cell_type": "markdown",
      "source": [
        "##### MATLAB"
      ],
      "metadata": {
        "id": "EwjK97uhoNRb"
      }
    },
    {
      "cell_type": "markdown",
      "source": [
        " MATLAB es el lenguaje de programación por excelencia en el mundo académico, también es muy utilizado en la industria. Este lenguaje fue diseñado para computación numerica por lo que es adecuado para aplicaciones cuantitativas con requisitos matemáticos sofistacados. Dentro de sus fuertes al igual que R también se en cuentra la visualización de datos. "
      ],
      "metadata": {
        "id": "aYmCAq9OoSXF"
      }
    },
    {
      "cell_type": "markdown",
      "source": [
        "##### Julia"
      ],
      "metadata": {
        "id": "YFMfmVdMnyBj"
      }
    },
    {
      "cell_type": "markdown",
      "source": [
        "Julia es el lenguaje de programación más reciente de los mencionados anteriormente, lo que también hace que no tenga una gran comunidad de apoyo detrás y disponga de paquetes limitados. Aun así, es un lenguaje de programación muy interesante siendo un lenguaje compilado JIT (Just In Time) que le ofrece ventajas que tienen los lenguajes interpretados como Python asi como obtener un gran rendimiento. Este lenguaje fue diseñado especificamente para el análisis numérico, aunque también ofrece la posibilidad de programación de propósitos generales."
      ],
      "metadata": {
        "id": "MLe26IKsoS00"
      }
    },
    {
      "cell_type": "markdown",
      "source": [
        "##### Conclusión\n"
      ],
      "metadata": {
        "id": "3xkVqbzqtdkh"
      }
    },
    {
      "cell_type": "markdown",
      "source": [
        ""
      ],
      "metadata": {
        "id": "wRzKH_1xuGw-"
      }
    }
  ],
  "metadata": {
    "kernelspec": {
      "display_name": "Python 3 (ipykernel)",
      "language": "python",
      "name": "python3"
    },
    "language_info": {
      "codemirror_mode": {
        "name": "ipython",
        "version": 3
      },
      "file_extension": ".py",
      "mimetype": "text/x-python",
      "name": "python",
      "nbconvert_exporter": "python",
      "pygments_lexer": "ipython3",
      "version": "3.9.1"
    },
    "colab": {
      "name": "Copia de Copia de 01MIAR_ACT_WhitePapers.ipynb",
      "provenance": [],
      "include_colab_link": true
    }
  },
  "nbformat": 4,
  "nbformat_minor": 0
}